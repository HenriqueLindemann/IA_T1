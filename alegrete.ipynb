{
  "cells": [
    {
      "cell_type": "markdown",
      "metadata": {
        "id": "fM1tzPvICydP"
      },
      "source": [
        "**Pressione SHIFT+ENTER para executar a célula**"
      ]
    },
    {
      "cell_type": "markdown",
      "metadata": {
        "id": "EtGzW6k4-epp"
      },
      "source": [
        "# Alegrete\n",
        "\n",
        "Este notebook fornece algumas visualizações para o trabalho de regressão linear. Para conseguir usar, implemente as funções no seu `alegrete.py` e tenha as bibliotecas `numpy` e `matplotlib` instaladas.\n",
        "\n",
        "O notebook usa um conjunto de dados sintetico. Adapte-o para carregar e usar os dados do `alegrete.csv`."
      ]
    },
    {
      "cell_type": "markdown",
      "metadata": {
        "id": "4YJqTGeQC59A"
      },
      "source": [
        "### Imports das bibliotecas de plot e da solucao implementada"
      ]
    },
    {
      "cell_type": "code",
      "execution_count": 4,
      "metadata": {
        "id": "k77xaJfA-epq"
      },
      "outputs": [],
      "source": [
        "%matplotlib inline\n",
        "from IPython.display import HTML\n",
        "import numpy as np\n",
        "import matplotlib.pyplot as plt\n",
        "import matplotlib.animation as animation\n",
        "\n",
        "import alegrete"
      ]
    },
    {
      "cell_type": "markdown",
      "metadata": {
        "id": "0q-q8220C59B"
      },
      "source": [
        "### Visualizacao dos dados"
      ]
    },
    {
      "cell_type": "code",
      "execution_count": 5,
      "metadata": {
        "id": "E9HoBdK3-epu"
      },
      "outputs": [
        {
          "data": {
            "image/png": "[encoded data removed]",
            "text/plain": [
              "<Figure size 600x200 with 1 Axes>"
            ]
          },
          "metadata": {},
          "output_type": "display_data"
        }
      ],
      "source": [
        "# dataset ficticio -- troque para carregar o alegrete.csv\n",
        "dataset = np.array([\n",
        "    [1, 3],\n",
        "    [2, 4],\n",
        "    [3, 4],\n",
        "    [4, 2]\n",
        "])\n",
        "\n",
        "#Gráfico dos dados\n",
        "plt.figure(figsize=(6, 2))\n",
        "plt.scatter(dataset[:,0], dataset[:,1])\n",
        "plt.xlabel('x')\n",
        "plt.ylabel('y')\n",
        "plt.title('Dados ficticios')\n",
        "plt.show()"
      ]
    },
    {
      "cell_type": "markdown",
      "metadata": {
        "id": "wnmqepye-ep_"
      },
      "source": [
        "### Execucao da regressao linear e calculo do EQM por epoca/iteracao\n",
        "\n",
        "Considere o parâmetro b o coeficiente linear (theta_0, visto em aula) e w o coeficiente angular (theta_1, visto em aula)."
      ]
    },
    {
      "cell_type": "code",
      "execution_count": 12,
      "metadata": {
        "id": "x1VREIE7-eqA"
      },
      "outputs": [
        {
          "ename": "NameError",
          "evalue": "name 'starting_b' is not defined",
          "output_type": "error",
          "traceback": [
            "\u001b[1;31m---------------------------------------------------------------------------\u001b[0m",
            "\u001b[1;31mNameError\u001b[0m                                 Traceback (most recent call last)",
            "Cell \u001b[1;32mIn[12], line 1\u001b[0m\n\u001b[1;32m----> 1\u001b[0m b_history, w_history \u001b[38;5;241m=\u001b[39m \u001b[43malegrete\u001b[49m\u001b[38;5;241;43m.\u001b[39;49m\u001b[43mfit\u001b[49m\u001b[43m(\u001b[49m\n\u001b[0;32m      2\u001b[0m \u001b[43m    \u001b[49m\u001b[43mdataset\u001b[49m\u001b[43m,\u001b[49m\u001b[43m \u001b[49m\u001b[43mb\u001b[49m\u001b[38;5;241;43m=\u001b[39;49m\u001b[38;5;241;43m0\u001b[39;49m\u001b[43m,\u001b[49m\u001b[43m \u001b[49m\u001b[43mw\u001b[49m\u001b[38;5;241;43m=\u001b[39;49m\u001b[38;5;241;43m0\u001b[39;49m\u001b[43m,\u001b[49m\n\u001b[0;32m      3\u001b[0m \u001b[43m    \u001b[49m\u001b[43malpha\u001b[49m\u001b[38;5;241;43m=\u001b[39;49m\u001b[38;5;241;43m0.1\u001b[39;49m\u001b[43m,\u001b[49m\u001b[43m \u001b[49m\u001b[43mnum_iterations\u001b[49m\u001b[38;5;241;43m=\u001b[39;49m\u001b[38;5;241;43m100\u001b[39;49m\n\u001b[0;32m      4\u001b[0m \u001b[43m)\u001b[49m\n\u001b[0;32m      6\u001b[0m \u001b[38;5;66;03m# valores finais de theta0 e theta1\u001b[39;00m\n\u001b[0;32m      7\u001b[0m final_b, final_w \u001b[38;5;241m=\u001b[39m b_history[\u001b[38;5;241m-\u001b[39m\u001b[38;5;241m1\u001b[39m], w_history[\u001b[38;5;241m-\u001b[39m\u001b[38;5;241m1\u001b[39m]\n",
            "File \u001b[1;32me:\\T-Gamer\\Documents\\2024.01\\Inteligência Artificial\\IA_T1\\alegrete.py:39\u001b[0m, in \u001b[0;36mfit\u001b[1;34m(data, b, w, alpha, num_iterations)\u001b[0m\n\u001b[0;32m     38\u001b[0m \u001b[38;5;28;01mdef\u001b[39;00m \u001b[38;5;21mfit\u001b[39m(data, b, w, alpha, num_iterations):\n\u001b[1;32m---> 39\u001b[0m     b \u001b[38;5;241m=\u001b[39m \u001b[43mstarting_b\u001b[49m\n\u001b[0;32m     40\u001b[0m     w \u001b[38;5;241m=\u001b[39m starting_w\n\u001b[0;32m     41\u001b[0m     \u001b[38;5;66;03m# Inicializa listas para registrar a evolução dos parâmetros\u001b[39;00m\n",
            "\u001b[1;31mNameError\u001b[0m: name 'starting_b' is not defined"
          ]
        }
      ],
      "source": [
        "b_history, w_history = alegrete.fit(\n",
        "    dataset, b=0, w=0,\n",
        "    alpha=0.1, num_iterations=100\n",
        ")\n",
        "\n",
        "# valores finais de theta0 e theta1\n",
        "final_b, final_w = b_history[-1], w_history[-1]\n",
        "\n",
        "mse_list = [alegrete.compute_mse(b, w, dataset) for b, w in zip(b_history, w_history)]\n",
        "print(f\"EQM final: {mse_list[-1]}\")\n",
        "\n",
        "\n",
        "plt.plot(mse_list)\n",
        "plt.xlabel('Epoca/iteracao')\n",
        "plt.ylabel('EQM')\n",
        "plt.show()"
      ]
    },
    {
      "cell_type": "markdown",
      "metadata": {
        "id": "5v-y-qI3-ep7"
      },
      "source": [
        "### Plot da curva final"
      ]
    },
    {
      "cell_type": "code",
      "execution_count": 5,
      "metadata": {
        "id": "WV6KIdPq-ep7"
      },
      "outputs": [
        {
          "ename": "NameError",
          "evalue": "name 'final_w' is not defined",
          "output_type": "error",
          "traceback": [
            "\u001b[1;31m---------------------------------------------------------------------------\u001b[0m",
            "\u001b[1;31mNameError\u001b[0m                                 Traceback (most recent call last)",
            "Cell \u001b[1;32mIn[5], line 2\u001b[0m\n\u001b[0;32m      1\u001b[0m \u001b[38;5;66;03m#Imprimir parâmetros otimizados\u001b[39;00m\n\u001b[1;32m----> 2\u001b[0m \u001b[38;5;28mprint\u001b[39m (\u001b[38;5;124mf\u001b[39m\u001b[38;5;124m'\u001b[39m\u001b[38;5;124mCurva encontrada: \u001b[39m\u001b[38;5;132;01m{\u001b[39;00m\u001b[43mfinal_w\u001b[49m\u001b[38;5;132;01m}\u001b[39;00m\u001b[38;5;124m*x + \u001b[39m\u001b[38;5;132;01m{\u001b[39;00mfinal_b\u001b[38;5;132;01m}\u001b[39;00m\u001b[38;5;124m'\u001b[39m)\n\u001b[0;32m      4\u001b[0m \u001b[38;5;66;03m#plota os dados\u001b[39;00m\n\u001b[0;32m      5\u001b[0m plt\u001b[38;5;241m.\u001b[39mfigure(figsize\u001b[38;5;241m=\u001b[39m(\u001b[38;5;241m4\u001b[39m, \u001b[38;5;241m2\u001b[39m))\n",
            "\u001b[1;31mNameError\u001b[0m: name 'final_w' is not defined"
          ]
        }
      ],
      "source": [
        "#Imprimir parâmetros otimizados\n",
        "print (f'Curva encontrada: {final_w}*x + {final_b}')\n",
        "\n",
        "#plota os dados\n",
        "plt.figure(figsize=(4, 2))\n",
        "plt.scatter(dataset[:,0], dataset[:,1])\n",
        "\n",
        "# plota a curva de ajuste\n",
        "pred = final_w*dataset[:,0] + final_b\n",
        "plt.plot(dataset[:,0], pred, c='r')\n",
        "plt.show()\n",
        "\n",
        "\n"
      ]
    },
    {
      "cell_type": "markdown",
      "metadata": {
        "id": "XeXdBWc-Cic-"
      },
      "source": [
        "### Progresso da descida do gradiente com o número de iterações\n",
        "\n",
        "Execute a celula e use os controles abaixo do grafico para visualizar o progresso do seu ajuste\n",
        "\n",
        "Pode aparecer um grafico \"extra\" abaixo da animacao, apenas ignore."
      ]
    },
    {
      "cell_type": "code",
      "execution_count": null,
      "metadata": {
        "id": "pHGbi8nY-eqI"
      },
      "outputs": [],
      "source": [
        "fig = plt.figure(figsize=(4, 2))\n",
        "ax = fig.add_subplot(111)\n",
        "\n",
        "# conjunto de dados\n",
        "ax.scatter(dataset[:,0], dataset[:,1])\n",
        "\n",
        "# linha com os valores iniciais dos parametros\n",
        "pred = w_history[0]*dataset[:,0] + b_history[0]\n",
        "line, = ax.plot(dataset[:,0], pred, '-',c='r')\n",
        "\n",
        "# funcao que atualiza a linha a cada passo\n",
        "def animate(i):\n",
        "    pred = w_history[i] * dataset[:,0] + b_history[i]\n",
        "    line.set_ydata(pred)\n",
        "    return line,\n",
        "\n",
        "# mude interval para trocar a velocidade da animacao\n",
        "ani = animation.FuncAnimation(fig, animate, frames=len(b_history), interval=20, save_count=50)\n",
        "HTML(ani.to_jshtml())"
      ]
    }
  ],
  "metadata": {
    "colab": {
      "provenance": []
    },
    "kernelspec": {
      "display_name": "Python 3 (ipykernel)",
      "language": "python",
      "name": "python3"
    },
    "language_info": {
      "codemirror_mode": {
        "name": "ipython",
        "version": 3
      },
      "file_extension": ".py",
      "mimetype": "text/x-python",
      "name": "python",
      "nbconvert_exporter": "python",
      "pygments_lexer": "ipython3",
      "version": "3.12.3"
    }
  },
  "nbformat": 4,
  "nbformat_minor": 0
}
